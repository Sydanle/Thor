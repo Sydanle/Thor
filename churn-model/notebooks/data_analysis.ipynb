{
  "cells": [
    {
      "cell_type": "markdown",
      "metadata": {},
      "source": [
        "# Insurance Client Churn Analysis\n",
        "\n",
        "This notebook analyzes insurance client data to identify churn patterns and prepare features for the churn prediction model.\n",
        "\n",
        "## Objectives:\n",
        "1. Explore client data patterns\n",
        "2. Identify key churn indicators\n",
        "3. Analyze feature distributions\n",
        "4. Prepare data for model training\n"
      ]
    },
    {
      "cell_type": "code",
      "execution_count": null,
      "metadata": {},
      "outputs": [],
      "source": [
        "import pandas as pd\n",
        "import numpy as np\n",
        "import matplotlib.pyplot as plt\n",
        "import seaborn as sns\n",
        "from datetime import datetime, timedelta\n",
        "import warnings\n",
        "warnings.filterwarnings('ignore')\n",
        "\n",
        "# Set style for better plots\n",
        "plt.style.use('seaborn-v0_8')\n",
        "sns.set_palette(\"husl\")\n",
        "\n",
        "# Import our custom modules\n",
        "import sys\n",
        "sys.path.append('../src')\n",
        "from data_processing.data_loader import create_sample_data, InsuranceDataLoader\n",
        "from feature_engineering.feature_engineer import InsuranceFeatureEngineer\n"
      ]
    }
  ],
  "metadata": {
    "language_info": {
      "name": "python"
    }
  },
  "nbformat": 4,
  "nbformat_minor": 2
}
